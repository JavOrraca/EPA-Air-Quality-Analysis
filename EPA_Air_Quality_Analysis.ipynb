{
  "nbformat": 4,
  "nbformat_minor": 0,
  "metadata": {
    "colab": {
      "name": "EPA_Air_Quality_Analysis",
      "version": "0.3.2",
      "provenance": [],
      "collapsed_sections": [],
      "include_colab_link": true
    },
    "kernelspec": {
      "name": "python3",
      "display_name": "Python 3"
    },
    "accelerator": "GPU"
  },
  "cells": [
    {
      "cell_type": "markdown",
      "metadata": {
        "id": "view-in-github",
        "colab_type": "text"
      },
      "source": [
        "<a href=\"https://colab.research.google.com/github/JavOrraca/EPA-Air-Quality-Analysis/blob/master/EPA_Air_Quality_Analysis.ipynb\" target=\"_parent\"><img src=\"https://colab.research.google.com/assets/colab-badge.svg\" alt=\"Open In Colab\"/></a>"
      ]
    },
    {
      "cell_type": "markdown",
      "metadata": {
        "id": "lAVo-CQdDcu9",
        "colab_type": "text"
      },
      "source": [
        "# BANA295 - Big Data Mgmt\n",
        "# EPA Air Quality Analysis\n",
        "Final Team Project\n",
        "* Yiting Fu\n",
        "* Javier Orraca\n",
        "* Mark Planas"
      ]
    },
    {
      "cell_type": "markdown",
      "metadata": {
        "id": "YbsXdmFKE8XD",
        "colab_type": "text"
      },
      "source": [
        "Install Java and Spark packages and dependencies for Google Colab Python Environment\n",
        " * If run in the future, look for correct Spark / Hadoop tgz and tarfile module\n",
        " * Source: https://towardsdatascience.com/pyspark-in-google-colab-6821c2faf41c"
      ]
    },
    {
      "cell_type": "code",
      "metadata": {
        "id": "7f7QBpLf3pRW",
        "colab_type": "code",
        "outputId": "4ab6981d-10f5-4144-ffa2-4514d4233ed4",
        "colab": {
          "base_uri": "https://localhost:8080/",
          "height": 353
        }
      },
      "source": [
        "!apt-get install openjdk-8-jdk-headless -qq > /dev/null\n",
        "!wget -q https://www-us.apache.org/dist/spark/spark-2.4.3/spark-2.4.3-bin-hadoop2.7.tgz\n",
        "!tar xf spark-2.4.3-bin-hadoop2.7.tgz\n",
        "!pip install -q findspark\n",
        "\n",
        "# If wanting to run bq_helper code, use the following:\n",
        "# !pip install -e git+https://github.com/SohierDane/BigQuery_Helper#egg=bq_helper\n",
        "\n",
        "# Install libraries so that statsmodel package in Colab will not\n",
        "# give logsumexp or factorial import errors (statsmodel wheel build takes a WHILE)\n",
        "!pip install --upgrade Cython\n",
        "!pip install --upgrade git+https://github.com/statsmodels/statsmodels"
      ],
      "execution_count": 1,
      "outputs": [
        {
          "output_type": "stream",
          "text": [
            "Requirement already up-to-date: Cython in /usr/local/lib/python3.6/dist-packages (0.29.10)\n",
            "Collecting git+https://github.com/statsmodels/statsmodels\n",
            "  Cloning https://github.com/statsmodels/statsmodels to /tmp/pip-req-build-46p78rb0\n",
            "  Running command git clone -q https://github.com/statsmodels/statsmodels /tmp/pip-req-build-46p78rb0\n",
            "Requirement already satisfied, skipping upgrade: numpy>=1.11 in /usr/local/lib/python3.6/dist-packages (from statsmodels==0.10.0rc2) (1.16.4)\n",
            "Requirement already satisfied, skipping upgrade: scipy>=0.18 in /usr/local/lib/python3.6/dist-packages (from statsmodels==0.10.0rc2) (1.3.0)\n",
            "Requirement already satisfied, skipping upgrade: pandas>=0.19 in /usr/local/lib/python3.6/dist-packages (from statsmodels==0.10.0rc2) (0.24.2)\n",
            "Requirement already satisfied, skipping upgrade: patsy>=0.4.0 in /usr/local/lib/python3.6/dist-packages (from statsmodels==0.10.0rc2) (0.5.1)\n",
            "Requirement already satisfied, skipping upgrade: pytz>=2011k in /usr/local/lib/python3.6/dist-packages (from pandas>=0.19->statsmodels==0.10.0rc2) (2018.9)\n",
            "Requirement already satisfied, skipping upgrade: python-dateutil>=2.5.0 in /usr/local/lib/python3.6/dist-packages (from pandas>=0.19->statsmodels==0.10.0rc2) (2.5.3)\n",
            "Requirement already satisfied, skipping upgrade: six in /usr/local/lib/python3.6/dist-packages (from patsy>=0.4.0->statsmodels==0.10.0rc2) (1.12.0)\n",
            "Building wheels for collected packages: statsmodels\n",
            "  Building wheel for statsmodels (setup.py) ... \u001b[?25l\u001b[?25hdone\n",
            "  Stored in directory: /tmp/pip-ephem-wheel-cache-ivrgby0_/wheels/7d/ad/45/ac1a03bd759c2fa74c486e2b1950d94b55f511b4c2b0418bd5\n",
            "Successfully built statsmodels\n",
            "Installing collected packages: statsmodels\n",
            "  Found existing installation: statsmodels 0.9.0\n",
            "    Uninstalling statsmodels-0.9.0:\n",
            "      Successfully uninstalled statsmodels-0.9.0\n",
            "Successfully installed statsmodels-0.10.0rc2\n"
          ],
          "name": "stdout"
        }
      ]
    },
    {
      "cell_type": "markdown",
      "metadata": {
        "id": "hA1rBCpBcz6R",
        "colab_type": "text"
      },
      "source": [
        "Set the environment path that enables us to run PySpark in our Colab environment running the following code:"
      ]
    },
    {
      "cell_type": "code",
      "metadata": {
        "id": "o9OgArfl3_Uz",
        "colab_type": "code",
        "colab": {}
      },
      "source": [
        "import os\n",
        "os.environ[\"JAVA_HOME\"] = \"/usr/lib/jvm/java-8-openjdk-amd64\"\n",
        "os.environ[\"SPARK_HOME\"] = \"/content/spark-2.4.3-bin-hadoop2.7\""
      ],
      "execution_count": 0,
      "outputs": []
    },
    {
      "cell_type": "code",
      "metadata": {
        "id": "TEUYDDaC3_et",
        "colab_type": "code",
        "colab": {}
      },
      "source": [
        "import findspark\n",
        "findspark.init()\n",
        "from pyspark.sql import SparkSession\n",
        "spark = SparkSession.builder.master(\"local[*]\").getOrCreate()"
      ],
      "execution_count": 0,
      "outputs": []
    },
    {
      "cell_type": "code",
      "metadata": {
        "id": "Ut3bcoGkVkZ-",
        "colab_type": "code",
        "colab": {}
      },
      "source": [
        "#gcloud dataproc clusters list"
      ],
      "execution_count": 0,
      "outputs": []
    },
    {
      "cell_type": "markdown",
      "metadata": {
        "id": "rxzD99GGlm5h",
        "colab_type": "text"
      },
      "source": [
        "Import packages for data analysis and visualizations including NumPy, Pandas, Matplotlib, etc."
      ]
    },
    {
      "cell_type": "code",
      "metadata": {
        "id": "nJAfRM2X3_mU",
        "colab_type": "code",
        "outputId": "8cdc2500-c40f-49ce-8b85-620e22b37cda",
        "colab": {
          "base_uri": "https://localhost:8080/",
          "height": 17
        }
      },
      "source": [
        "import numpy as np\n",
        "import pandas as pd\n",
        "import sys\n",
        "# import matplotlib.pyplot as plot\n",
        "import seaborn as sns\n",
        "import io\n",
        "import pprint\n",
        "import plotly\n",
        "import plotly.plotly as py\n",
        "import plotly.tools as tls\n",
        "import plotly.graph_objs as go\n",
        "from pandas.io import gbq\n",
        "from plotly.tools import FigureFactory as FF\n",
        "from plotly.offline import init_notebook_mode, iplot\n",
        "from plotly.plotly import plot_mpl\n",
        "from statsmodels.tsa.seasonal import seasonal_decompose\n",
        "import cufflinks as cf\n",
        "init_notebook_mode(connected=True) # Use for offline maps"
      ],
      "execution_count": 0,
      "outputs": [
        {
          "output_type": "display_data",
          "data": {
            "text/vnd.plotly.v1+html": "<script type=\"text/javascript\">window.PlotlyConfig = {MathJaxConfig: 'local'};</script><script type=\"text/javascript\">if (window.MathJax) {MathJax.Hub.Config({SVG: {font: \"STIX-Web\"}});}</script><script>requirejs.config({paths: { 'plotly': ['https://cdn.plot.ly/plotly-latest.min']},});if(!window._Plotly) {require(['plotly'],function(plotly) {window._Plotly=plotly;});}</script>",
            "text/html": [
              "<script type=\"text/javascript\">window.PlotlyConfig = {MathJaxConfig: 'local'};</script><script type=\"text/javascript\">if (window.MathJax) {MathJax.Hub.Config({SVG: {font: \"STIX-Web\"}});}</script><script>requirejs.config({paths: { 'plotly': ['https://cdn.plot.ly/plotly-latest.min']},});if(!window._Plotly) {require(['plotly'],function(plotly) {window._Plotly=plotly;});}</script>"
            ]
          },
          "metadata": {
            "tags": []
          }
        }
      ]
    },
    {
      "cell_type": "markdown",
      "metadata": {
        "id": "DTSpfwdN-PzD",
        "colab_type": "text"
      },
      "source": [
        "Provide your credentials to the runtime via Google Cloud SDK:"
      ]
    },
    {
      "cell_type": "code",
      "metadata": {
        "id": "9sOu5Sup3_r3",
        "colab_type": "code",
        "outputId": "9cdf5d47-1ff8-4075-aec0-b752b1b7d97c",
        "colab": {
          "base_uri": "https://localhost:8080/",
          "height": 34
        }
      },
      "source": [
        "from google.colab import auth\n",
        "auth.authenticate_user()\n",
        "print('Authenticated')"
      ],
      "execution_count": 0,
      "outputs": [
        {
          "output_type": "stream",
          "text": [
            "Authenticated\n"
          ],
          "name": "stdout"
        }
      ]
    },
    {
      "cell_type": "code",
      "metadata": {
        "id": "mKOXrnBViaGP",
        "colab_type": "code",
        "outputId": "c2ff65d9-61e1-4dad-ff08-75027de67348",
        "colab": {
          "base_uri": "https://localhost:8080/",
          "height": 874
        }
      },
      "source": [
        "from google.cloud import bigquery\n",
        "import google.cloud.bigquery as bq\n",
        "\n",
        "# Download the file into Google Colab tmp folder without affecting RAM limitation of Colab Python environment\n",
        "!gsutil cp gs://bana295_epa_analysis/co_daily_summary-000000000000.csv /tmp/co_0.csv\n",
        "!gsutil cp gs://bana295_epa_analysis/co_daily_summary-000000000001.csv /tmp/co_1.csv\n",
        "!gsutil cp gs://bana295_epa_analysis/co_daily_summary-000000000002.csv /tmp/co_2.csv\n",
        "!gsutil cp gs://bana295_epa_analysis/no2_daily_summary-000000000000.csv /tmp/no2_0.csv\n",
        "!gsutil cp gs://bana295_epa_analysis/no2_daily_summary-000000000001.csv /tmp/no2_1.csv\n",
        "!gsutil cp gs://bana295_epa_analysis/no2_daily_summary-000000000002.csv /tmp/no2_2.csv\n",
        "!gsutil cp gs://bana295_epa_analysis/o3_daily_summary-000000000000.csv /tmp/o3_0.csv\n",
        "!gsutil cp gs://bana295_epa_analysis/o3_daily_summary-000000000001.csv /tmp/o3_1.csv\n",
        "!gsutil cp gs://bana295_epa_analysis/o3_daily_summary-000000000002.csv /tmp/o3_2.csv\n",
        "!gsutil cp gs://bana295_epa_analysis/o3_daily_summary-000000000003.csv /tmp/o3_3.csv\n",
        "!gsutil cp gs://bana295_epa_analysis/o3_daily_summary-000000000004.csv /tmp/o3_4.csv\n",
        "!gsutil cp gs://bana295_epa_analysis/o3_daily_summary-000000000005.csv /tmp/o3_5.csv\n",
        "!gsutil cp gs://bana295_epa_analysis/temperature_daily_summary-000000000000.csv /tmp/temp_0.csv\n",
        "!gsutil cp gs://bana295_epa_analysis/temperature_daily_summary-000000000001.csv /tmp/temp_1.csv\n",
        "!gsutil cp gs://bana295_epa_analysis/temperature_daily_summary-000000000002.csv /tmp/temp_2.csv\n",
        "!gsutil cp gs://bana295_epa_analysis/temperature_daily_summary-000000000003.csv /tmp/temp_3.csv\n",
        "!gsutil cp gs://bana295_epa_analysis/temperature_daily_summary-000000000004.csv /tmp/temp_4.csv\n",
        "  \n",
        "# Print results to ensure transfer worked, if desired.\n",
        "#!cat /tmp/co_0.csv"
      ],
      "execution_count": 0,
      "outputs": [
        {
          "output_type": "stream",
          "text": [
            "Copying gs://bana295_epa_analysis/co_daily_summary-000000000000.csv...\n",
            "/ [1 files][749.9 MiB/749.9 MiB]                                                \n",
            "Operation completed over 1 objects/749.9 MiB.                                    \n",
            "Copying gs://bana295_epa_analysis/co_daily_summary-000000000001.csv...\n",
            "| [1 files][750.2 MiB/750.2 MiB]                                                \n",
            "Operation completed over 1 objects/750.2 MiB.                                    \n",
            "Copying gs://bana295_epa_analysis/co_daily_summary-000000000002.csv...\n",
            "/ [1 files][750.0 MiB/750.0 MiB]                                                \n",
            "Operation completed over 1 objects/750.0 MiB.                                    \n",
            "Copying gs://bana295_epa_analysis/no2_daily_summary-000000000000.csv...\n",
            "\\ [1 files][379.4 MiB/379.4 MiB]                                                \n",
            "Operation completed over 1 objects/379.4 MiB.                                    \n",
            "Copying gs://bana295_epa_analysis/no2_daily_summary-000000000001.csv...\n",
            "\\ [1 files][380.3 MiB/380.3 MiB]                                                \n",
            "Operation completed over 1 objects/380.3 MiB.                                    \n",
            "Copying gs://bana295_epa_analysis/no2_daily_summary-000000000002.csv...\n",
            "\\ [1 files][379.8 MiB/379.8 MiB]                                                \n",
            "Operation completed over 1 objects/379.8 MiB.                                    \n",
            "Copying gs://bana295_epa_analysis/o3_daily_summary-000000000000.csv...\n",
            "\\ [1 files][360.2 MiB/360.2 MiB]                                                \n",
            "Operation completed over 1 objects/360.2 MiB.                                    \n",
            "Copying gs://bana295_epa_analysis/o3_daily_summary-000000000001.csv...\n",
            "- [1 files][360.0 MiB/360.0 MiB]                                                \n",
            "Operation completed over 1 objects/360.0 MiB.                                    \n",
            "Copying gs://bana295_epa_analysis/o3_daily_summary-000000000002.csv...\n",
            "\\ [1 files][360.1 MiB/360.1 MiB]                                                \n",
            "Operation completed over 1 objects/360.1 MiB.                                    \n",
            "Copying gs://bana295_epa_analysis/o3_daily_summary-000000000003.csv...\n",
            "| [1 files][360.7 MiB/360.7 MiB]                                                \n",
            "Operation completed over 1 objects/360.7 MiB.                                    \n",
            "Copying gs://bana295_epa_analysis/o3_daily_summary-000000000004.csv...\n",
            "- [1 files][360.3 MiB/360.3 MiB]                                                \n",
            "Operation completed over 1 objects/360.3 MiB.                                    \n",
            "Copying gs://bana295_epa_analysis/o3_daily_summary-000000000005.csv...\n",
            "- [1 files][360.2 MiB/360.2 MiB]                                                \n",
            "Operation completed over 1 objects/360.2 MiB.                                    \n",
            "Copying gs://bana295_epa_analysis/temperature_daily_summary-000000000000.csv...\n",
            "\\ [1 files][340.0 MiB/340.0 MiB]                                                \n",
            "Operation completed over 1 objects/340.0 MiB.                                    \n",
            "Copying gs://bana295_epa_analysis/temperature_daily_summary-000000000001.csv...\n",
            "- [1 files][340.5 MiB/340.5 MiB]                                                \n",
            "Operation completed over 1 objects/340.5 MiB.                                    \n",
            "Copying gs://bana295_epa_analysis/temperature_daily_summary-000000000002.csv...\n",
            "- [1 files][340.8 MiB/340.8 MiB]                                                \n",
            "Operation completed over 1 objects/340.8 MiB.                                    \n",
            "Copying gs://bana295_epa_analysis/temperature_daily_summary-000000000003.csv...\n",
            "- [1 files][340.3 MiB/340.3 MiB]                                                \n",
            "Operation completed over 1 objects/340.3 MiB.                                    \n",
            "Copying gs://bana295_epa_analysis/temperature_daily_summary-000000000004.csv...\n",
            "- [1 files][340.6 MiB/340.6 MiB]                                                \n",
            "Operation completed over 1 objects/340.6 MiB.                                    \n"
          ],
          "name": "stdout"
        }
      ]
    },
    {
      "cell_type": "markdown",
      "metadata": {
        "id": "KkH0sBnxr2Dm",
        "colab_type": "text"
      },
      "source": [
        "Read all files transferred from Google Cloud Storage buckets as Python dataframes and further bind the dataframes by rows"
      ]
    },
    {
      "cell_type": "code",
      "metadata": {
        "id": "LdDJCx6gDjfB",
        "colab_type": "code",
        "colab": {}
      },
      "source": [
        "from pyspark.ml.feature import VectorAssembler\n",
        "from pyspark.ml.regression import LinearRegression\n",
        "\n",
        "co_0 = spark.read.csv('/tmp/co_0.csv',inferSchema=True, header =True)\n",
        "co_1 = spark.read.csv('/tmp/co_1.csv',inferSchema=True, header =True)\n",
        "co_2 = spark.read.csv('/tmp/co_2.csv',inferSchema=True, header =True)\n",
        "no2_0 = spark.read.csv('/tmp/no2_0.csv',inferSchema=True, header =True)\n",
        "no2_1 = spark.read.csv('/tmp/no2_1.csv',inferSchema=True, header =True)\n",
        "no2_2 = spark.read.csv('/tmp/no2_2.csv',inferSchema=True, header =True)\n",
        "o3_0 = spark.read.csv('/tmp/o3_0.csv',inferSchema=True, header =True)\n",
        "o3_1 = spark.read.csv('/tmp/o3_1.csv',inferSchema=True, header =True)\n",
        "o3_2 = spark.read.csv('/tmp/o3_2.csv',inferSchema=True, header =True)\n",
        "o3_3 = spark.read.csv('/tmp/o3_3.csv',inferSchema=True, header =True)\n",
        "o3_4 = spark.read.csv('/tmp/o3_4.csv',inferSchema=True, header =True)\n",
        "o3_5 = spark.read.csv('/tmp/o3_5.csv',inferSchema=True, header =True)\n",
        "temp_0 = spark.read.csv('/tmp/temp_0.csv',inferSchema=True, header =True)\n",
        "temp_1 = spark.read.csv('/tmp/temp_1.csv',inferSchema=True, header =True)\n",
        "temp_2 = spark.read.csv('/tmp/temp_2.csv',inferSchema=True, header =True)\n",
        "temp_3 = spark.read.csv('/tmp/temp_3.csv',inferSchema=True, header =True)\n",
        "temp_4 = spark.read.csv('/tmp/temp_4.csv',inferSchema=True, header =True)"
      ],
      "execution_count": 0,
      "outputs": []
    },
    {
      "cell_type": "code",
      "metadata": {
        "id": "KuZRrTxriaCO",
        "colab_type": "code",
        "colab": {}
      },
      "source": [
        "# Use the following code if you ever want to read your csv files as Pandas dataframes\n",
        "\n",
        "#co_0 = pd.read_csv('/tmp/co_0.csv')\n",
        "#co_1 = pd.read_csv('/tmp/co_1.csv')\n",
        "#co_2 = pd.read_csv('/tmp/co_2.csv')\n",
        "#no2_0 = pd.read_csv('/tmp/no2_0.csv')\n",
        "#no2_1 = pd.read_csv('/tmp/no2_1.csv')\n",
        "#no2_2 = pd.read_csv('/tmp/no2_2.csv')\n",
        "#o3_0 = pd.read_csv('/tmp/o3_0.csv')\n",
        "#o3_1 = pd.read_csv('/tmp/o3_1.csv')\n",
        "#o3_2 = pd.read_csv('/tmp/o3_2.csv')\n",
        "#o3_3 = pd.read_csv('/tmp/o3_3.csv')\n",
        "#o3_4 = pd.read_csv('/tmp/o3_4.csv')\n",
        "#o3_5 = pd.read_csv('/tmp/o3_5.csv')\n",
        "#temp_0 = pd.read_csv('/tmp/temp_0.csv')\n",
        "#temp_1 = pd.read_csv('/tmp/temp_1.csv')\n",
        "#temp_2 = pd.read_csv('/tmp/temp_2.csv')\n",
        "#temp_3 = pd.read_csv('/tmp/temp_3.csv')\n",
        "#temp_4 = pd.read_csv('/tmp/temp_4.csv')"
      ],
      "execution_count": 0,
      "outputs": []
    },
    {
      "cell_type": "code",
      "metadata": {
        "id": "oCzJg_Ibt4qP",
        "colab_type": "code",
        "colab": {}
      },
      "source": [
        "# Concatenate Pandas dataframes\n",
        "\n",
        "#co = pd.concat([co_0, co_1, co_2])\n",
        "#no2 = pd.concat([no2_0, no2_1, no2_2])\n",
        "#o3 = pd.concat([o3_0, o3_1, o3_2, o3_3, o3_4, o3_5])\n",
        "#temp = pd.concat([temp_0, temp_1, temp_2, temp_3, temp_4])"
      ],
      "execution_count": 0,
      "outputs": []
    },
    {
      "cell_type": "code",
      "metadata": {
        "id": "LRFjArLb3DpC",
        "colab_type": "code",
        "colab": {}
      },
      "source": [
        "# Use Python and Spark to reduce and join the dataframes \n",
        "from functools import reduce\n",
        "from pyspark.sql import DataFrame\n",
        "from pyspark.sql.functions import date_format, lit, col, array, create_map, struct\n",
        "\n",
        "def unionAll(*dfs):\n",
        "    return reduce(DataFrame.unionAll, dfs)\n",
        "\n",
        "co = unionAll(co_0, co_1, co_2)\n",
        "no2 = unionAll(no2_0, no2_1, no2_2)\n",
        "o3 = unionAll(o3_0, o3_1, o3_2, o3_3, o3_4, o3_5)\n",
        "temp = unionAll(temp_0, temp_1, temp_2, temp_3, temp_4)"
      ],
      "execution_count": 0,
      "outputs": []
    },
    {
      "cell_type": "code",
      "metadata": {
        "id": "02zR0GfF-uLb",
        "colab_type": "code",
        "outputId": "4aa928a8-bcbb-4cc0-c99c-138a3e2d71bb",
        "colab": {
          "base_uri": "https://localhost:8080/",
          "height": 205
        }
      },
      "source": [
        "# Test descriptive stats for Spark object:\n",
        "co.filter(\"state_name = 'California' AND county_name = 'Orange'\").describe().show()"
      ],
      "execution_count": 0,
      "outputs": [
        {
          "output_type": "stream",
          "text": [
            "+-------+----------+--------------------+------------------+--------------+-----+-------------------+-------------------+-----+---------------+--------------------+------------------+-----------------+----------+------------------+-------------------+------------------+------------------+-----------------+------------------+-----------------+--------------------+---------------+--------------------+----------+-----------+-------------+--------------------+\n",
            "|summary|state_code|         county_code|          site_num|parameter_code|  poc|           latitude|          longitude|datum| parameter_name|     sample_duration|pollutant_standard| units_of_measure|event_type| observation_count|observation_percent|   arithmetic_mean|   first_max_value|   first_max_hour|               aqi|      method_code|         method_name|local_site_name|             address|state_name|county_name|    city_name|           cbsa_name|\n",
            "+-------+----------+--------------------+------------------+--------------+-----+-------------------+-------------------+-----+---------------+--------------------+------------------+-----------------+----------+------------------+-------------------+------------------+------------------+-----------------+------------------+-----------------+--------------------+---------------+--------------------+----------+-----------+-------------+--------------------+\n",
            "|  count|     82209|               82209|             82209|         82209|82209|              82209|              82209|82209|          82209|               82209|             82209|            82209|     82209|             82209|              82209|             82209|             82209|            82209|             41117|            41092|               82209|          74353|               82209|     82209|      82209|        82209|               82209|\n",
            "|   mean|       6.0|                59.0|1975.7338125995936|       42101.0|  1.0| 33.765717251661506|-117.87284655290826| null|           null|                null|              null|             null|      null|23.174287486771522|    96.653055018307| 0.686340006507803|1.3071756133756656|8.165942901628775|11.946421188316268|85.18134916772121|                null|           null|                null|      null|       null|         null|                null|\n",
            "| stddev|       0.0|2.399872424691051...|1877.9399816330313|           0.0|  0.0|0.11774316462555089|0.11005846014512878| null|           null|                null|              null|             null|      null| 1.702036970025281|  7.051638375312457|0.7117645217964376|1.5122284294093844|7.062041042983191|12.563847026806474|38.30815894666179|                null|           null|                null|      null|       null|         null|                null|\n",
            "|    min|         6|                  59|                 1|         42101|    1|          33.627222|         -117.95264|NAD27|Carbon monoxide|              1 HOUR|    CO 1-hour 1971|Parts per million|      None|                 1|                  4|              -0.1|              -0.1|                0|                 0|               11|                   -|        Anaheim|1010 S. Harbor Blvd.|California|     Orange|      Anaheim|Los Angeles-Long ...|\n",
            "|    max|         6|                  59|              5001|         42101|    1|           33.92513|         -117.67593|WGS84|Carbon monoxide|8-HR RUN AVG END ...|    CO 8-hour 1971|Parts per million|      None|                24|                100|           6.73913|              21.0|               23|               138|              158|INSTRUMENTAL - NO...|  Mission Viejo|812 W. Vermont St...|California|     Orange|Mission Viejo|Los Angeles-Long ...|\n",
            "+-------+----------+--------------------+------------------+--------------+-----+-------------------+-------------------+-----+---------------+--------------------+------------------+-----------------+----------+------------------+-------------------+------------------+------------------+-----------------+------------------+-----------------+--------------------+---------------+--------------------+----------+-----------+-------------+--------------------+\n",
            "\n"
          ],
          "name": "stdout"
        }
      ]
    },
    {
      "cell_type": "code",
      "metadata": {
        "id": "BrQy2DQS_TiD",
        "colab_type": "code",
        "colab": {}
      },
      "source": [
        "# Create filter for Orange County on individual files\n",
        "OC_co = co.filter(\"state_name = 'California' AND county_name = 'Orange'\")\n",
        "OC_no2 = no2.filter(\"state_name = 'California' AND county_name = 'Orange'\")\n",
        "OC_o3 = o3.filter(\"state_name = 'California' AND county_name = 'Orange'\")\n",
        "OC_temp = temp.filter(\"state_name = 'California' AND county_name = 'Orange'\")"
      ],
      "execution_count": 0,
      "outputs": []
    },
    {
      "cell_type": "code",
      "metadata": {
        "id": "439ZxU4-NJHd",
        "colab_type": "code",
        "outputId": "ca9457ed-1252-4f70-afaa-dae4e65e8651",
        "colab": {
          "base_uri": "https://localhost:8080/",
          "height": 222
        }
      },
      "source": [
        "# See available fields in the co data\n",
        "OC_co.show(5)"
      ],
      "execution_count": 0,
      "outputs": [
        {
          "output_type": "stream",
          "text": [
            "+----------+-----------+--------+--------------+---+--------+----------+-----+---------------+--------------------+------------------+-------------------+-----------------+----------+-----------------+-------------------+---------------+---------------+--------------+----+-----------+--------------------+---------------+--------------------+----------+-----------+-------------+--------------------+-------------------+\n",
            "|state_code|county_code|site_num|parameter_code|poc|latitude| longitude|datum| parameter_name|     sample_duration|pollutant_standard|         date_local| units_of_measure|event_type|observation_count|observation_percent|arithmetic_mean|first_max_value|first_max_hour| aqi|method_code|         method_name|local_site_name|             address|state_name|county_name|    city_name|           cbsa_name|date_of_last_change|\n",
            "+----------+-----------+--------+--------------+---+--------+----------+-----+---------------+--------------------+------------------+-------------------+-----------------+----------+-----------------+-------------------+---------------+---------------+--------------+----+-----------+--------------------+---------------+--------------------+----------+-----------+-------------+--------------------+-------------------+\n",
            "|         6|         59|    2022|         42101|  1|33.63003|-117.67593|WGS84|Carbon monoxide|              1 HOUR|    CO 1-hour 1971|2007-03-09 00:00:00|Parts per million|      None|               23|                 96|       0.117391|            0.3|            22|null|        106|INSTRUMENTAL - NO...|  Mission Viejo|26081 VIA PERA, M...|California|     Orange|Mission Viejo|Los Angeles-Long ...|2016-04-12 00:00:00|\n",
            "|         6|         59|    2022|         42101|  1|33.63003|-117.67593|WGS84|Carbon monoxide|              1 HOUR|    CO 1-hour 1971|2014-06-08 00:00:00|Parts per million|      None|               23|                 96|            0.0|            0.0|             0|null|        106|INSTRUMENTAL - NO...|  Mission Viejo|26081 VIA PERA, M...|California|     Orange|Mission Viejo|Los Angeles-Long ...|2016-04-07 00:00:00|\n",
            "|         6|         59|    2022|         42101|  1|33.63003|-117.67593|WGS84|Carbon monoxide|8-HR RUN AVG END ...|    CO 8-hour 1971|2013-11-24 00:00:00|Parts per million|      None|               24|                100|       0.154167|            0.3|             0|   3|       null|                   -|  Mission Viejo|26081 VIA PERA, M...|California|     Orange|Mission Viejo|Los Angeles-Long ...|2016-04-08 00:00:00|\n",
            "|         6|         59|    2022|         42101|  1|33.63003|-117.67593|WGS84|Carbon monoxide|8-HR RUN AVG END ...|    CO 8-hour 1971|2013-11-09 00:00:00|Parts per million|      None|               24|                100|       0.279167|            0.5|            22|   6|       null|                   -|  Mission Viejo|26081 VIA PERA, M...|California|     Orange|Mission Viejo|Los Angeles-Long ...|2016-04-08 00:00:00|\n",
            "|         6|         59|    2022|         42101|  1|33.63003|-117.67593|WGS84|Carbon monoxide|8-HR RUN AVG END ...|    CO 8-hour 1971|2003-10-27 00:00:00|Parts per million|      None|               24|                100|       0.833333|            1.4|            19|  16|       null|                   -|  Mission Viejo|26081 VIA PERA, M...|California|     Orange|Mission Viejo|Los Angeles-Long ...|2016-04-20 00:00:00|\n",
            "+----------+-----------+--------+--------------+---+--------+----------+-----+---------------+--------------------+------------------+-------------------+-----------------+----------+-----------------+-------------------+---------------+---------------+--------------+----+-----------+--------------------+---------------+--------------------+----------+-----------+-------------+--------------------+-------------------+\n",
            "only showing top 5 rows\n",
            "\n"
          ],
          "name": "stdout"
        }
      ]
    },
    {
      "cell_type": "code",
      "metadata": {
        "id": "6w5eaLeANJQT",
        "colab_type": "code",
        "outputId": "388533bc-1776-484d-82dc-d61939e48ff0",
        "colab": {
          "base_uri": "https://localhost:8080/",
          "height": 222
        }
      },
      "source": [
        "OC_no2.show(5)"
      ],
      "execution_count": 0,
      "outputs": [
        {
          "output_type": "stream",
          "text": [
            "+----------+-----------+--------+--------------+---+---------+----------+-----+--------------------+---------------+------------------+-------------------+-----------------+----------+-----------------+-------------------+------------------+---------------+--------------+---+-----------+--------------------+--------------------+--------------------+----------+-----------+---------+--------------------+-------------------+\n",
            "|state_code|county_code|site_num|parameter_code|poc| latitude| longitude|datum|      parameter_name|sample_duration|pollutant_standard|         date_local| units_of_measure|event_type|observation_count|observation_percent|   arithmetic_mean|first_max_value|first_max_hour|aqi|method_code|         method_name|     local_site_name|             address|state_name|county_name|city_name|           cbsa_name|date_of_last_change|\n",
            "+----------+-----------+--------+--------------+---+---------+----------+-----+--------------------+---------------+------------------+-------------------+-----------------+----------+-----------------+-------------------+------------------+---------------+--------------+---+-----------+--------------------+--------------------+--------------------+----------+-----------+---------+--------------------+-------------------+\n",
            "|        06|         59|       1|         42602|  5|33.821353|-117.91427|WGS84|Nitrogen dioxide ...|         1 HOUR|        NO2 1-hour|2000-07-30 00:00:00|Parts per billion|      None|               23|                 96|15.260869999999999|           23.0|            17| 22|        111|INSTRUMENTAL - CH...|Anaheim (1010 Har...|1010 S. Harbor Blvd.|California|     Orange|  Anaheim|Los Angeles-Long ...|2013-06-11 00:00:00|\n",
            "|        06|         59|       1|         42602|  5|33.821353|-117.91427|WGS84|Nitrogen dioxide ...|         1 HOUR|        NO2 1-hour|2000-08-27 00:00:00|Parts per billion|      None|               23|                 96|13.260869999999999|           25.0|             0| 24|        111|INSTRUMENTAL - CH...|Anaheim (1010 Har...|1010 S. Harbor Blvd.|California|     Orange|  Anaheim|Los Angeles-Long ...|2013-06-11 00:00:00|\n",
            "|        06|         59|       1|         42602|  5|33.821353|-117.91427|WGS84|Nitrogen dioxide ...|         1 HOUR|        NO2 1-hour|2000-10-22 00:00:00|Parts per billion|      None|               23|                 96|          29.73913|           61.0|            20| 58|        111|INSTRUMENTAL - CH...|Anaheim (1010 Har...|1010 S. Harbor Blvd.|California|     Orange|  Anaheim|Los Angeles-Long ...|2013-06-11 00:00:00|\n",
            "|        06|         59|       1|         42602|  5|33.821353|-117.91427|WGS84|Nitrogen dioxide ...|         1 HOUR|        NO2 1-hour|1991-06-12 00:00:00|Parts per billion|      None|               23|                 96|         22.173913|           30.0|             3| 28|         14|INSTRUMENTAL - CH...|Anaheim (1010 Har...|1010 S. Harbor Blvd.|California|     Orange|  Anaheim|Los Angeles-Long ...|2013-06-11 00:00:00|\n",
            "|        06|         59|       1|         42602|  5|33.821353|-117.91427|WGS84|Nitrogen dioxide ...|         1 HOUR|        NO2 1-hour|1991-10-26 00:00:00|Parts per billion|      None|               23|                 96|         28.695652|           50.0|             5| 47|         14|INSTRUMENTAL - CH...|Anaheim (1010 Har...|1010 S. Harbor Blvd.|California|     Orange|  Anaheim|Los Angeles-Long ...|2013-06-11 00:00:00|\n",
            "+----------+-----------+--------+--------------+---+---------+----------+-----+--------------------+---------------+------------------+-------------------+-----------------+----------+-----------------+-------------------+------------------+---------------+--------------+---+-----------+--------------------+--------------------+--------------------+----------+-----------+---------+--------------------+-------------------+\n",
            "only showing top 5 rows\n",
            "\n"
          ],
          "name": "stdout"
        }
      ]
    },
    {
      "cell_type": "code",
      "metadata": {
        "id": "ipxFLADXNJY6",
        "colab_type": "code",
        "outputId": "1781005b-eaf5-4c1d-bc86-33e1c40834f8",
        "colab": {
          "base_uri": "https://localhost:8080/",
          "height": 222
        }
      },
      "source": [
        "OC_o3.show(5)"
      ],
      "execution_count": 0,
      "outputs": [
        {
          "output_type": "stream",
          "text": [
            "+----------+-----------+--------+--------------+---+------------------+----------+-----+--------------+--------------------+------------------+-------------------+-----------------+----------+-----------------+-------------------+--------------------+--------------------+--------------+---+-----------+-----------+--------------------+--------------------+----------+-----------+----------+--------------------+-------------------+\n",
            "|state_code|county_code|site_num|parameter_code|poc|          latitude| longitude|datum|parameter_name|     sample_duration|pollutant_standard|         date_local| units_of_measure|event_type|observation_count|observation_percent|     arithmetic_mean|     first_max_value|first_max_hour|aqi|method_code|method_name|     local_site_name|             address|state_name|county_name| city_name|           cbsa_name|date_of_last_change|\n",
            "+----------+-----------+--------+--------------+---+------------------+----------+-----+--------------+--------------------+------------------+-------------------+-----------------+----------+-----------------+-------------------+--------------------+--------------------+--------------+---+-----------+-----------+--------------------+--------------------+----------+-----------+----------+--------------------+-------------------+\n",
            "|        06|         59|       7|         44201|  1|33.830619999999996|-117.93845|WGS84|         Ozone|8-HR RUN AVG BEGI...| Ozone 8-hour 2015|2012-07-14 00:00:00|Parts per million|      None|               17|                100|0.039646999999999995|0.045000000000000005|            10| 42|       null|         - |             Anaheim| 1630 W. PAMPAS LANE|California|     Orange|   Anaheim|Los Angeles-Long ...|2018-07-19 00:00:00|\n",
            "|        06|         59|       7|         44201|  1|33.830619999999996|-117.93845|WGS84|         Ozone|8-HR RUN AVG BEGI...| Ozone 8-hour 2015|2012-07-26 00:00:00|Parts per million|      None|               17|                100|0.030352999999999998|                0.04|            11| 37|       null|         - |             Anaheim| 1630 W. PAMPAS LANE|California|     Orange|   Anaheim|Los Angeles-Long ...|2018-07-19 00:00:00|\n",
            "|        06|         59|    1003|         44201|  1|          33.67464|-117.92568|WGS84|         Ozone|8-HR RUN AVG BEGI...| Ozone 8-hour 2015|2012-05-26 00:00:00|Parts per million|      None|               17|                100|            0.033588|               0.041|             9| 38|       null|         - |          Costa Mesa|2850 MESA VERDE D...|California|     Orange|Costa Mesa|Los Angeles-Long ...|2018-07-18 00:00:00|\n",
            "|        06|         59|       1|         44201|  1|         33.821353|-117.91427|WGS84|         Ozone|8-HR RUN AVG BEGI...| Ozone 8-hour 2015|1998-07-27 00:00:00|Parts per million|      None|               17|                100|            0.026059|                0.04|             9| 37|       null|         - |Anaheim (1010 Har...|1010 S. Harbor Blvd.|California|     Orange|   Anaheim|Los Angeles-Long ...|2018-07-18 00:00:00|\n",
            "|        06|         59|    1003|         44201|  1|          33.67464|-117.92568|WGS84|         Ozone|8-HR RUN AVG BEGI...| Ozone 8-hour 2015|1998-01-09 00:00:00|Parts per million|      None|               17|                100|            0.028412|               0.038|            21| 35|       null|         - |          Costa Mesa|2850 MESA VERDE D...|California|     Orange|Costa Mesa|Los Angeles-Long ...|2018-07-18 00:00:00|\n",
            "+----------+-----------+--------+--------------+---+------------------+----------+-----+--------------+--------------------+------------------+-------------------+-----------------+----------+-----------------+-------------------+--------------------+--------------------+--------------+---+-----------+-----------+--------------------+--------------------+----------+-----------+----------+--------------------+-------------------+\n",
            "only showing top 5 rows\n",
            "\n"
          ],
          "name": "stdout"
        }
      ]
    },
    {
      "cell_type": "code",
      "metadata": {
        "id": "eHVootkyA6ng",
        "colab_type": "code",
        "outputId": "0250bc23-6156-46f2-b198-533596abcd42",
        "colab": {
          "base_uri": "https://localhost:8080/",
          "height": 222
        }
      },
      "source": [
        "OC_temp.show(5)"
      ],
      "execution_count": 0,
      "outputs": [
        {
          "output_type": "stream",
          "text": [
            "+----------+-----------+--------+--------------+---+--------+----------+-----+-------------------+---------------+------------------+-------------------+------------------+----------+-----------------+-------------------+------------------+---------------+--------------+----+-----------+--------------------+---------------+--------------------+----------+-----------+-------------+--------------------+-------------------+\n",
            "|state_code|county_code|site_num|parameter_code|poc|latitude| longitude|datum|     parameter_name|sample_duration|pollutant_standard|         date_local|  units_of_measure|event_type|observation_count|observation_percent|   arithmetic_mean|first_max_value|first_max_hour| aqi|method_code|         method_name|local_site_name|             address|state_name|county_name|    city_name|           cbsa_name|date_of_last_change|\n",
            "+----------+-----------+--------+--------------+---+--------+----------+-----+-------------------+---------------+------------------+-------------------+------------------+----------+-----------------+-------------------+------------------+---------------+--------------+----+-----------+--------------------+---------------+--------------------+----------+-----------+-------------+--------------------+-------------------+\n",
            "|         6|         59|    2022|         62101|  1|33.63003|-117.67593|WGS84|Outdoor Temperature|         1 HOUR|              null|2004-08-10 00:00:00|Degrees Fahrenheit|      None|               24|                100|         77.708333|           95.0|            12|null|         40|INSTRUMENTAL - EL...|  Mission Viejo|26081 VIA PERA, M...|California|     Orange|Mission Viejo|Los Angeles-Long ...|2013-06-11 00:00:00|\n",
            "|         6|         59|    2022|         62101|  1|33.63003|-117.67593|WGS84|Outdoor Temperature|         1 HOUR|              null|2009-08-22 00:00:00|Degrees Fahrenheit|      None|               24|                100|         74.333333|           85.0|            14|null|         40|INSTRUMENTAL - EL...|  Mission Viejo|26081 VIA PERA, M...|California|     Orange|Mission Viejo|Los Angeles-Long ...|2013-06-10 00:00:00|\n",
            "|         6|         59|    2022|         62101|  1|33.63003|-117.67593|WGS84|Outdoor Temperature|         1 HOUR|              null|2009-10-07 00:00:00|Degrees Fahrenheit|      None|               24|                100|              62.5|           70.0|            11|null|         40|INSTRUMENTAL - EL...|  Mission Viejo|26081 VIA PERA, M...|California|     Orange|Mission Viejo|Los Angeles-Long ...|2013-06-10 00:00:00|\n",
            "|         6|         59|    2022|         62101|  1|33.63003|-117.67593|WGS84|Outdoor Temperature|         1 HOUR|              null|2009-10-30 00:00:00|Degrees Fahrenheit|      None|               24|                100|         60.041667|           76.0|            14|null|         40|INSTRUMENTAL - EL...|  Mission Viejo|26081 VIA PERA, M...|California|     Orange|Mission Viejo|Los Angeles-Long ...|2013-06-10 00:00:00|\n",
            "|         6|         59|    2022|         62101|  1|33.63003|-117.67593|WGS84|Outdoor Temperature|         1 HOUR|              null|2012-05-05 00:00:00|Degrees Fahrenheit|      None|               24|                100|61.920832999999995|           74.2|            12|null|         61|Instrumental - Me...|  Mission Viejo|26081 VIA PERA, M...|California|     Orange|Mission Viejo|Los Angeles-Long ...|2013-06-10 00:00:00|\n",
            "+----------+-----------+--------+--------------+---+--------+----------+-----+-------------------+---------------+------------------+-------------------+------------------+----------+-----------------+-------------------+------------------+---------------+--------------+----+-----------+--------------------+---------------+--------------------+----------+-----------+-------------+--------------------+-------------------+\n",
            "only showing top 5 rows\n",
            "\n"
          ],
          "name": "stdout"
        }
      ]
    },
    {
      "cell_type": "markdown",
      "metadata": {
        "id": "zzlFKAUfGPvZ",
        "colab_type": "text"
      },
      "source": [
        "Manipulate Spark data frame to Group By state, county, and date, while calculating average AQI and Arithmetic Mean (for )each pollutant). Create a new Date column with proper formatting for modeling in yyyy-MM. Then, create additional column to identify specific pollutant in each df and further  join the Spark dataframes together (saved below as Spark_Grouped).\n",
        "\n",
        "Lastly, run select queries to only include only AQI and Date fields for Orange County to further evaluation via Spark using ARIMA, visualizing via Plotly, and exploring the seasonality in the data. We will regress in later steps."
      ]
    },
    {
      "cell_type": "code",
      "metadata": {
        "id": "1029liT1tLyy",
        "colab_type": "code",
        "colab": {}
      },
      "source": [
        "# Create Spark dataframes for modeling purposes\n",
        "co_grouped = co.groupBy('state_name', 'county_name', 'date_local').avg('aqi', 'arithmetic_mean')\n",
        "co_grouped = co_grouped.withColumn(\"Date\", date_format('date_local', \"yyyy-MM\"))\n",
        "co_grouped = co_grouped.withColumn(\"Pollutant\",lit(\"co\"))\n",
        "\n",
        "no2_grouped = no2.groupBy('state_name', 'county_name', 'date_local').avg('aqi', 'arithmetic_mean')\n",
        "no2_grouped = no2_grouped.withColumn(\"Date\", date_format('date_local', \"yyyy-MM\"))\n",
        "no2_grouped = no2_grouped.withColumn(\"Pollutant\",lit(\"no2\"))\n",
        "\n",
        "o3_grouped = o3.groupBy('state_name', 'county_name', 'date_local').avg('aqi', 'arithmetic_mean')\n",
        "o3_grouped = o3_grouped.withColumn(\"Date\", date_format('date_local', \"yyyy-MM\"))\n",
        "o3_grouped = o3_grouped.withColumn(\"Pollutant\",lit(\"o3\"))\n",
        "\n",
        "temp_grouped = temp.groupBy('state_name', 'county_name', 'date_local').avg('arithmetic_mean')\n",
        "temp_grouped = temp_grouped.withColumn(\"Date\", date_format('date_local', \"yyyy-MM\"))\n",
        "temp_grouped = temp_grouped.withColumn(\"Measurement\",lit(\"Fahrenheit\"))\n",
        "\n",
        "# Join the CO2, NO2, and O3 data sets\n",
        "Spark_Grouped = unionAll(co_grouped, no2_grouped, o3_grouped)"
      ],
      "execution_count": 0,
      "outputs": []
    },
    {
      "cell_type": "code",
      "metadata": {
        "id": "rxSWq4QxaKqU",
        "colab_type": "code",
        "outputId": "de1c3605-c469-4d3f-ab84-b542b44aaf7c",
        "colab": {
          "base_uri": "https://localhost:8080/",
          "height": 454
        }
      },
      "source": [
        "Spark_Grouped.show(20)"
      ],
      "execution_count": 0,
      "outputs": [
        {
          "output_type": "stream",
          "text": [
            "+------------+-----------+-------------------+------------------+--------------------+-------+---------+\n",
            "|  state_name|county_name|         date_local|          avg(aqi)|avg(arithmetic_mean)|   Date|Pollutant|\n",
            "+------------+-----------+-------------------+------------------+--------------------+-------+---------+\n",
            "|    Colorado|   La Plata|2005-05-30 00:00:00|               3.0|             0.25625|2005-05|       co|\n",
            "|Pennsylvania|    Dauphin|1999-08-08 00:00:00|               5.0| 0.35208300000000003|1999-08|       co|\n",
            "|   Tennessee|     Loudon|1996-10-20 00:00:00|               3.0|            0.222917|1996-10|       co|\n",
            "|    Illinois|     Peoria|2003-01-20 00:00:00|              14.0|           0.6208335|2003-01|       co|\n",
            "|        Utah|     Uintah|2012-12-30 00:00:00|               3.0|              0.2375|2012-12|       co|\n",
            "|   Minnesota|    Carlton|1990-04-08 00:00:00|               0.0|                 0.0|1990-04|       co|\n",
            "|Pennsylvania|      Berks|1997-02-07 00:00:00|              15.0|           0.5854165|1997-02|       co|\n",
            "|        Utah|     Uintah|2013-04-18 00:00:00|               6.0|                 0.5|2013-04|       co|\n",
            "|       Maine|  Aroostook|2013-02-24 00:00:00|               2.0| 0.18425000000000002|2013-02|       co|\n",
            "|     Arizona|       Pima|1990-10-13 00:00:00|            24.375|  1.3440103749999999|1990-10|       co|\n",
            "|     Arizona|       Pima|1996-09-14 00:00:00|11.333333333333334|  0.5784721666666667|1996-09|       co|\n",
            "|Pennsylvania|  Allegheny|1995-06-14 00:00:00|12.333333333333334|  0.7784723333333333|1995-06|       co|\n",
            "|  New Mexico| Bernalillo|2010-01-07 00:00:00|               3.4| 0.21888880000000005|2010-01|       co|\n",
            "|    Michigan|      Wayne|2015-02-27 00:00:00|            11.125|  0.5726448749999999|2015-02|       co|\n",
            "|     Montana|Yellowstone|2005-05-07 00:00:00|               6.0|           0.3229165|2005-05|       co|\n",
            "|    Nebraska|    Douglas|2007-09-10 00:00:00|               7.0|            0.466667|2007-09|       co|\n",
            "|       Texas|      Bexar|2010-01-07 00:00:00|               7.0|          0.37916675|2010-01|       co|\n",
            "|   Minnesota|    Stearns|1996-11-14 00:00:00|              30.0|            1.735417|1996-11|       co|\n",
            "|    Oklahoma|      Tulsa|2006-08-17 00:00:00|               6.0|           0.4083335|2006-08|       co|\n",
            "|Rhode Island| Providence|2002-10-04 00:00:00|              11.5|           0.7879735|2002-10|       co|\n",
            "+------------+-----------+-------------------+------------------+--------------------+-------+---------+\n",
            "only showing top 20 rows\n",
            "\n"
          ],
          "name": "stdout"
        }
      ]
    },
    {
      "cell_type": "code",
      "metadata": {
        "id": "EtQ4TP0d_r_i",
        "colab_type": "code",
        "colab": {}
      },
      "source": [
        "# Let's explore via visualizations (and later regress) using only the AQI field by Date. Note: As AQI is not pollutant-specific, the CO, NO2, and O3 dataframes contain the same exact AQI values on the same dates. As such, below we'll just work off the CO dataframe.\n",
        "Spark_AQI_OC_co = co_grouped.filter(\"state_name = 'California' AND county_name = 'Orange'\").select('Date', col('avg(arithmetic_mean)').alias('Avg_CO'))\n",
        "Spark_AQI_OC_no2 = no2_grouped.filter(\"state_name = 'California' AND county_name = 'Orange'\").select('Date', col('avg(arithmetic_mean)').alias('Avg_NO2'))\n",
        "Spark_AQI_OC_o3 = o3_grouped.filter(\"state_name = 'California' AND county_name = 'Orange'\").select('Date', col('avg(arithmetic_mean)').alias('Avg_O3'))\n",
        "\n",
        "Spark_Temperature = temp_grouped.filter(\"state_name = 'California' AND county_name = 'Orange'\").select('Date', col('avg(arithmetic_mean)').alias('Temperature_F'))\n",
        "\n",
        "#Spark_AQI_OC_co.show(50)"
      ],
      "execution_count": 0,
      "outputs": []
    },
    {
      "cell_type": "code",
      "metadata": {
        "id": "6uCBen-ffAKZ",
        "colab_type": "code",
        "outputId": "cc040ce5-2ed6-4da3-d25e-efbae66fd2ff",
        "colab": {
          "base_uri": "https://localhost:8080/",
          "height": 1798
        }
      },
      "source": [
        "Spark_AQI_OC_co.show(100)"
      ],
      "execution_count": 0,
      "outputs": [
        {
          "output_type": "stream",
          "text": [
            "+-------+-------------------+\n",
            "|   Date|             Avg_CO|\n",
            "+-------+-------------------+\n",
            "|2013-06|        0.155218375|\n",
            "|2017-09|0.28120287499999996|\n",
            "|2011-05|        0.291271375|\n",
            "|2014-02|0.15772925000000002|\n",
            "|2004-08|         0.16333775|\n",
            "|2002-02|         1.66062025|\n",
            "|2011-03|        0.322115875|\n",
            "|2006-05|        0.239424875|\n",
            "|2005-08|        0.139311625|\n",
            "|2014-12|          0.6632575|\n",
            "|2005-09|          0.1334465|\n",
            "|2016-12|          0.3691668|\n",
            "|2005-07|0.22475074999999997|\n",
            "|2015-07|0.26007759999999996|\n",
            "|2006-02| 0.9016531249999999|\n",
            "|2015-12|0.43585399999999996|\n",
            "|2002-08|        0.336956375|\n",
            "|2003-04|        0.789990875|\n",
            "|2002-06|        0.214198375|\n",
            "|1997-09| 0.7110733749999999|\n",
            "|1997-10|        0.475951125|\n",
            "|1993-12|          1.5249095|\n",
            "|1995-12|        2.062771875|\n",
            "|1992-03| 0.7436821250000001|\n",
            "|1991-08|        0.431385875|\n",
            "|1990-06|        0.580594375|\n",
            "|1996-01| 1.6423008749999997|\n",
            "|1991-03|0.46822925000000004|\n",
            "|1992-10|        1.845357875|\n",
            "|1996-01|           1.214923|\n",
            "|1998-03| 0.6311819999999999|\n",
            "|2003-09|         0.20770125|\n",
            "|2003-12|        1.244021625|\n",
            "|2004-11| 0.5149558750000001|\n",
            "|2010-05|0.24914237500000003|\n",
            "|2007-10|        0.684035375|\n",
            "|2004-09|0.21505875000000002|\n",
            "|2000-02| 1.1399003749999999|\n",
            "|1998-07|        0.611548875|\n",
            "|2006-05|        0.177400375|\n",
            "|1996-05|0.47782650000000004|\n",
            "|1998-05|        0.537318875|\n",
            "|2011-06|0.14294612499999998|\n",
            "|1999-08|0.32487916666666666|\n",
            "|1991-11| 3.8299592500000004|\n",
            "|1999-07|0.29867150000000003|\n",
            "|1995-02| 1.3755887500000001|\n",
            "|2002-08|0.46802524999999995|\n",
            "|1997-03|0.36562500000000003|\n",
            "|1995-08|         1.09658075|\n",
            "|1997-08|        0.917527125|\n",
            "|2002-08|        0.334692125|\n",
            "|1999-09| 0.4565216666666667|\n",
            "|2006-03|        0.219474625|\n",
            "|2017-09|        0.403715375|\n",
            "|2007-01|        0.352038125|\n",
            "|1993-07|0.12563412499999999|\n",
            "|2008-05|0.20388100000000003|\n",
            "|2003-11|         1.17762675|\n",
            "|2015-06|          0.2521448|\n",
            "|2003-01|           0.783288|\n",
            "|2001-07|0.48209550000000007|\n",
            "|2016-05|0.24014460000000004|\n",
            "|2003-08|        0.366032625|\n",
            "|2013-01|         0.75551075|\n",
            "|2015-12| 0.6409442000000001|\n",
            "|2008-05|        0.159963875|\n",
            "|2009-11|0.16274900000000003|\n",
            "|2003-06|0.32445662500000005|\n",
            "|2016-07|          0.2921195|\n",
            "|2001-07| 0.5208938333333334|\n",
            "|2007-03|         0.65100275|\n",
            "|2000-12| 1.4646738750000001|\n",
            "|2011-12|        0.973863625|\n",
            "|1998-05|          0.4014265|\n",
            "|1992-01| 2.5256339999999997|\n",
            "|1996-03|          1.9974865|\n",
            "|1992-08|           1.223774|\n",
            "|1997-06|0.39248174999999996|\n",
            "|1996-01|          2.1082655|\n",
            "|1993-04|         1.26222825|\n",
            "|2015-03|          0.2506624|\n",
            "|2010-04| 0.3834362500000001|\n",
            "|2016-04|          0.3463572|\n",
            "|2012-04|0.42107412499999997|\n",
            "|2014-08|0.07442774999999999|\n",
            "|2017-11| 0.5147252499999999|\n",
            "|2006-05|         0.25575175|\n",
            "|2008-08|         0.19737325|\n",
            "|2017-06|          0.2922024|\n",
            "|1991-03|           1.061028|\n",
            "|2013-09|0.10480712499999999|\n",
            "|2002-11|         0.65081525|\n",
            "|2001-10|        0.712432125|\n",
            "|2013-10|         0.10052475|\n",
            "|1992-05|          0.8107605|\n",
            "|2005-10|0.36320199999999997|\n",
            "|1997-04| 0.6071785000000001|\n",
            "|1990-08|        0.338269875|\n",
            "|1994-01|           4.182945|\n",
            "+-------+-------------------+\n",
            "only showing top 100 rows\n",
            "\n"
          ],
          "name": "stdout"
        }
      ]
    },
    {
      "cell_type": "code",
      "metadata": {
        "id": "gyMm98YAdoWI",
        "colab_type": "code",
        "colab": {}
      },
      "source": [
        "# Convert Spark df to Pandas df for Plotly plotting / ML, then make Date field the index and remove Date proper field\n",
        "AQI_OC_co = Spark_AQI_OC_co.toPandas()\n",
        "AQI_OC_no2 = Spark_AQI_OC_no2.toPandas()\n",
        "AQI_OC_o3 = Spark_AQI_OC_o3.toPandas()\n",
        "Temperature = Spark_Temperature.toPandas()\n",
        "\n",
        "AQI_OC_co = AQI_OC_co.set_index('Date')\n",
        "AQI_OC_no2 = AQI_OC_no2.set_index('Date')\n",
        "AQI_OC_o3 = AQI_OC_o3.set_index('Date')\n",
        "Temperature = Temperature.set_index('Date')\n",
        "\n",
        "AQI_OC_co.index = pd.to_datetime(AQI_OC_co.index)\n",
        "AQI_OC_no2.index = pd.to_datetime(AQI_OC_no2.index)\n",
        "AQI_OC_o3.index = pd.to_datetime(AQI_OC_o3.index)\n",
        "Temperature.index = pd.to_datetime(Temperature.index)\n",
        "\n",
        "AQI_OC_co = AQI_OC_co.sort_index()\n",
        "AQI_OC_no2 = AQI_OC_no2.sort_index()\n",
        "AQI_OC_o3 = AQI_OC_o3.sort_index()\n",
        "Temperature = Temperature.sort_index()\n",
        "\n",
        "# Check that Date field if no longer available as df column\n",
        "#AQI_OC_co.head(10)"
      ],
      "execution_count": 0,
      "outputs": []
    },
    {
      "cell_type": "code",
      "metadata": {
        "id": "yT9FJ7j1Q4hi",
        "colab_type": "code",
        "outputId": "7f84e86e-002f-469e-f5de-baea08d192b8",
        "colab": {
          "base_uri": "https://localhost:8080/",
          "height": 373
        }
      },
      "source": [
        "AQI_OC_co.head(10)"
      ],
      "execution_count": 0,
      "outputs": [
        {
          "output_type": "execute_result",
          "data": {
            "text/html": [
              "<div>\n",
              "<style scoped>\n",
              "    .dataframe tbody tr th:only-of-type {\n",
              "        vertical-align: middle;\n",
              "    }\n",
              "\n",
              "    .dataframe tbody tr th {\n",
              "        vertical-align: top;\n",
              "    }\n",
              "\n",
              "    .dataframe thead th {\n",
              "        text-align: right;\n",
              "    }\n",
              "</style>\n",
              "<table border=\"1\" class=\"dataframe\">\n",
              "  <thead>\n",
              "    <tr style=\"text-align: right;\">\n",
              "      <th></th>\n",
              "      <th>Avg_CO</th>\n",
              "    </tr>\n",
              "    <tr>\n",
              "      <th>Date</th>\n",
              "      <th></th>\n",
              "    </tr>\n",
              "  </thead>\n",
              "  <tbody>\n",
              "    <tr>\n",
              "      <th>1990-01-01</th>\n",
              "      <td>1.899557</td>\n",
              "    </tr>\n",
              "    <tr>\n",
              "      <th>1990-01-01</th>\n",
              "      <td>2.890747</td>\n",
              "    </tr>\n",
              "    <tr>\n",
              "      <th>1990-01-01</th>\n",
              "      <td>0.847826</td>\n",
              "    </tr>\n",
              "    <tr>\n",
              "      <th>1990-01-01</th>\n",
              "      <td>5.337590</td>\n",
              "    </tr>\n",
              "    <tr>\n",
              "      <th>1990-01-01</th>\n",
              "      <td>2.832548</td>\n",
              "    </tr>\n",
              "    <tr>\n",
              "      <th>1990-01-01</th>\n",
              "      <td>4.368800</td>\n",
              "    </tr>\n",
              "    <tr>\n",
              "      <th>1990-01-01</th>\n",
              "      <td>1.945732</td>\n",
              "    </tr>\n",
              "    <tr>\n",
              "      <th>1990-01-01</th>\n",
              "      <td>2.063285</td>\n",
              "    </tr>\n",
              "    <tr>\n",
              "      <th>1990-01-01</th>\n",
              "      <td>1.814130</td>\n",
              "    </tr>\n",
              "    <tr>\n",
              "      <th>1990-01-01</th>\n",
              "      <td>2.268413</td>\n",
              "    </tr>\n",
              "  </tbody>\n",
              "</table>\n",
              "</div>"
            ],
            "text/plain": [
              "              Avg_CO\n",
              "Date                \n",
              "1990-01-01  1.899557\n",
              "1990-01-01  2.890747\n",
              "1990-01-01  0.847826\n",
              "1990-01-01  5.337590\n",
              "1990-01-01  2.832548\n",
              "1990-01-01  4.368800\n",
              "1990-01-01  1.945732\n",
              "1990-01-01  2.063285\n",
              "1990-01-01  1.814130\n",
              "1990-01-01  2.268413"
            ]
          },
          "metadata": {
            "tags": []
          },
          "execution_count": 47
        }
      ]
    },
    {
      "cell_type": "code",
      "metadata": {
        "id": "AySjyz5OtaIH",
        "colab_type": "code",
        "outputId": "66de5032-435c-4077-f1b7-1bcd5970cb79",
        "colab": {
          "base_uri": "https://localhost:8080/",
          "height": 546
        }
      },
      "source": [
        "# Provide credentials:\n",
        "plotly.tools.set_credentials_file(username='JavierPlotly', api_key='[EnterAPIKeyHere]')\n",
        "\n",
        "# Plot time-series of CO levels since 1990\n",
        "AQI_OC_co.iplot(title=\"Orange County Average CO Levels (monthly) 1990 to 2018\")"
      ],
      "execution_count": 0,
      "outputs": [
        {
          "output_type": "execute_result",
          "data": {
            "text/html": [
              "<iframe id=\"igraph\" scrolling=\"no\" style=\"border:none;\" seamless=\"seamless\" src=\"https://plot.ly/~JavierPlotly/9.embed\" height=\"525px\" width=\"100%\"></iframe>"
            ],
            "text/plain": [
              "<plotly.tools.PlotlyDisplay object>"
            ]
          },
          "metadata": {
            "tags": []
          },
          "execution_count": 34
        }
      ]
    },
    {
      "cell_type": "code",
      "metadata": {
        "id": "QwL1ID9jH8zC",
        "colab_type": "code",
        "outputId": "d08baec9-b5dd-47ce-a325-f2503a7f3fac",
        "colab": {
          "base_uri": "https://localhost:8080/",
          "height": 546
        }
      },
      "source": [
        "AQI_OC_no2.iplot(title=\"Orange County Average NO2 Levels (monthly) 1990 to 2018\")"
      ],
      "execution_count": 0,
      "outputs": [
        {
          "output_type": "execute_result",
          "data": {
            "text/html": [
              "<iframe id=\"igraph\" scrolling=\"no\" style=\"border:none;\" seamless=\"seamless\" src=\"https://plot.ly/~JavierPlotly/29.embed\" height=\"525px\" width=\"100%\"></iframe>"
            ],
            "text/plain": [
              "<plotly.tools.PlotlyDisplay object>"
            ]
          },
          "metadata": {
            "tags": []
          },
          "execution_count": 65
        }
      ]
    },
    {
      "cell_type": "code",
      "metadata": {
        "id": "9_PTs8C5Lr3-",
        "colab_type": "code",
        "outputId": "aba489e8-c5c1-4599-b707-28ce0055e3ba",
        "colab": {
          "base_uri": "https://localhost:8080/",
          "height": 546
        }
      },
      "source": [
        "AQI_OC_o3.iplot(title=\"Orange County Average O3 Levels (monthly) 1990 to 2018\")"
      ],
      "execution_count": 0,
      "outputs": [
        {
          "output_type": "execute_result",
          "data": {
            "text/html": [
              "<iframe id=\"igraph\" scrolling=\"no\" style=\"border:none;\" seamless=\"seamless\" src=\"https://plot.ly/~JavierPlotly/13.embed\" height=\"525px\" width=\"100%\"></iframe>"
            ],
            "text/plain": [
              "<plotly.tools.PlotlyDisplay object>"
            ]
          },
          "metadata": {
            "tags": []
          },
          "execution_count": 36
        }
      ]
    },
    {
      "cell_type": "code",
      "metadata": {
        "id": "jsTuMLELSAeN",
        "colab_type": "code",
        "outputId": "c5bcb116-2d4d-4a71-aece-e1a92715fc09",
        "colab": {
          "base_uri": "https://localhost:8080/",
          "height": 546
        }
      },
      "source": [
        "Temperature.iplot(title=\"Orange County Average Temperature (Fahrenheit, monthly) 1990 to 2018\")"
      ],
      "execution_count": 0,
      "outputs": [
        {
          "output_type": "execute_result",
          "data": {
            "text/html": [
              "<iframe id=\"igraph\" scrolling=\"no\" style=\"border:none;\" seamless=\"seamless\" src=\"https://plot.ly/~JavierPlotly/15.embed\" height=\"525px\" width=\"100%\"></iframe>"
            ],
            "text/plain": [
              "<plotly.tools.PlotlyDisplay object>"
            ]
          },
          "metadata": {
            "tags": []
          },
          "execution_count": 37
        }
      ]
    }
  ]
}
